{
 "cells": [
  {
   "cell_type": "code",
   "execution_count": 28,
   "metadata": {},
   "outputs": [
    {
     "name": "stdout",
     "output_type": "stream",
     "text": [
      "a=4\n",
      "b=5\n",
      "c=6\n",
      "80.37388218507303\n"
     ]
    }
   ],
   "source": [
    "class Triangle():\n",
    "    def __init__(self,side1,side2,side3):\n",
    "        self.a=side1\n",
    "        self.b=side2\n",
    "        self.c=side3\n",
    "class Area(Triangle):\n",
    "    def __init__(self,*args):\n",
    "        super(Area,self).__init__(*args)\n",
    "    def TriArea(self):\n",
    "        s=(self.a +self.b + self.c)/2\n",
    "        area=s*(s-self.a)*(s-self.b)*(s-self.c)**0.5\n",
    "        print(area)\n",
    "a,b,c=int(input(\"a=\")),int(input(\"b=\")),int(input(\"c=\"))\n",
    "a=Area(a,b,c)\n",
    "a.TriArea()\n"
   ]
  },
  {
   "cell_type": "code",
   "execution_count": 5,
   "metadata": {},
   "outputs": [
    {
     "data": {
      "text/plain": [
       "['hello']"
      ]
     },
     "execution_count": 5,
     "metadata": {},
     "output_type": "execute_result"
    }
   ],
   "source": [
    "def filter_long_word(s,num):\n",
    "    s=list(filter(lambda x: len(x)>num,s))\n",
    "    return s\n",
    "b=filter_long_word([\"hello\",\"b\"],2)\n",
    "b"
   ]
  },
  {
   "cell_type": "code",
   "execution_count": 7,
   "metadata": {},
   "outputs": [
    {
     "data": {
      "text/plain": [
       "[3, 2, 4]"
      ]
     },
     "execution_count": 7,
     "metadata": {},
     "output_type": "execute_result"
    }
   ],
   "source": [
    "def map_word(s):\n",
    "    s=list(map(lambda x: len(x),s))\n",
    "    return s\n",
    "b=map_word(['abc','de','efgh'])\n",
    "b"
   ]
  },
  {
   "cell_type": "code",
   "execution_count": 4,
   "metadata": {},
   "outputs": [
    {
     "name": "stdout",
     "output_type": "stream",
     "text": [
      "enter single charactera\n",
      "True\n"
     ]
    }
   ],
   "source": [
    "vowel =['a','i','e','o','u']\n",
    "a=False\n",
    "while(a==False):\n",
    "    char=str(input(\"enter single character\"))\n",
    "    if(len(char)==1):\n",
    "        a=True\n",
    "if char in vowel:\n",
    "    print(\"True\")\n",
    "else:\n",
    "    print(\"False\")"
   ]
  },
  {
   "cell_type": "code",
   "execution_count": null,
   "metadata": {},
   "outputs": [],
   "source": []
  }
 ],
 "metadata": {
  "kernelspec": {
   "display_name": "Python 3",
   "language": "python",
   "name": "python3"
  }
 },
 "nbformat": 4,
 "nbformat_minor": 2
}
