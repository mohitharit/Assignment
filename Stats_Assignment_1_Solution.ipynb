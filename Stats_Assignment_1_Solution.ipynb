{
 "cells": [
  {
   "cell_type": "code",
   "execution_count": 73,
   "metadata": {},
   "outputs": [
    {
     "name": "stdout",
     "output_type": "stream",
     "text": [
      "mean: 6.85\n",
      "mode: 7\n",
      "median: 7.0\n",
      "Standard Deviation 1.6311119875071343\n"
     ]
    }
   ],
   "source": [
    "import statistics as st\n",
    "a=\"6 7 5 7 7 8 7 6 9 7 4 10 6 8 8 9 5 6 4 8\"\n",
    "data=list(a.split(\" \"))\n",
    "data_list = list(map(int, data)) \n",
    "data_list\n",
    "mean=st.mean(data_list)\n",
    "mode= st.mode(data_list)\n",
    "median=st.median(data_list)\n",
    "stdev = st.stdev(data_list)\n",
    "print('mean:',mean)\n",
    "print('mode:',mode)\n",
    "print('median:',median)\n",
    "print('Standard Deviation', stdev)"
   ]
  },
  {
   "cell_type": "code",
   "execution_count": 74,
   "metadata": {},
   "outputs": [
    {
     "name": "stdout",
     "output_type": "stream",
     "text": [
      "mean: 107.51428571428572\n",
      "mode: 75\n",
      "median: 100\n",
      "Standard Deviation 39.33892805484412\n"
     ]
    }
   ],
   "source": [
    "data_list2=[28, 122, 217, 130, 120, 86, 80, 90, 140, 120, 70, 40, 145, 113, 90, 68, 174, 194, 170,100, 75, 104, 97, 75,123, 100, 75, 104, 97, 75, 123, 100, 89, 120, 109]\n",
    "mode= st.mode(data_list2)\n",
    "median=st.median(data_list2)\n",
    "stdev = st.stdev(data_list2)\n",
    "mean=st.mean(data_list2)\n",
    "print('mean:',mean)\n",
    "print('mode:',mode)\n",
    "print('median:',median)\n",
    "print('Standard Deviation', stdev)"
   ]
  },
  {
   "cell_type": "code",
   "execution_count": 77,
   "metadata": {},
   "outputs": [
    {
     "name": "stdout",
     "output_type": "stream",
     "text": [
      "2.15\n",
      "3.0854166666666663\n"
     ]
    }
   ],
   "source": [
    "x =[0, 1, 2, 3, 4, 5]\n",
    "f =[0.09, 0.15, 0.40, 0.25, 0.10, 0.01]\n",
    "rst= [x[i]*f[i] for i in range(len(x))]\n",
    "rst\n",
    "avg=sum(rst)\n",
    "print(avg)\n",
    "rst1=[5*i for i in rst]\n",
    "rst1\n",
    "var=st.variance(rst1)\n",
    "print(var)"
   ]
  },
  {
   "cell_type": "code",
   "execution_count": null,
   "metadata": {},
   "outputs": [],
   "source": [
    "Need solution of Question 4"
   ]
  },
  {
   "cell_type": "code",
   "execution_count": 115,
   "metadata": {},
   "outputs": [
    {
     "name": "stdout",
     "output_type": "stream",
     "text": [
      "Probability will be : 0.32413499999999995\n",
      "mean :=  1.7999999999999998\n",
      "standard deviation := 1.7565354157165936\n"
     ]
    }
   ],
   "source": [
    "from scipy.stats import binom\n",
    "import math \n",
    "probab=binom.pmf(k=2,n=6,p=0.3)\n",
    "print(\"Probability will be :\",probab)\n",
    "mean,variance=binom.stats(n=6,p=0.3)\n",
    "print(\"mean := \",mean)\n",
    "print(\"standard deviation :=\",math.sqrt(var))"
   ]
  },
  {
   "cell_type": "code",
   "execution_count": 147,
   "metadata": {},
   "outputs": [
    {
     "name": "stdout",
     "output_type": "stream",
     "text": [
      "probability that each of them will solve 5 questions correctly : 0.04619989057299213\n",
      "probability that each of them will solve 4 and 6 questions correctly : 0.01924995440541338\n",
      "probability g will solve 4 questions correctly : 0.08651733398437506\n",
      "probability g will solve 6 questions correctly : 0.22249823843265792\n"
     ]
    },
    {
     "data": {
      "text/plain": [
       "<matplotlib.axes._subplots.AxesSubplot at 0x27b5be780f0>"
      ]
     },
     "execution_count": 147,
     "metadata": {},
     "output_type": "execute_result"
    },
    {
     "data": {
      "image/png": "[encoded data removed]",
      "text/plain": [
       "<Figure size 432x288 with 1 Axes>"
      ]
     },
     "metadata": {},
     "output_type": "display_data"
    }
   ],
   "source": [
    "from scipy.stats import binom\n",
    "import seaborn as sns\n",
    "\n",
    "probG = binom.pmf(k=5,n=8,p=0.75)\n",
    "probB = binom.pmf(k=5, n=12,p=0.45)\n",
    "print(\"probability that each of them will solve 5 questions correctly :\", probG*probB)\n",
    "probG4 = binom.pmf(k=4,n=8,p=0.75)\n",
    "probB6 = binom.pmf(k=5,n=12,p=0.45)\n",
    "print(\"probability that each of them will solve 4 and 6 questions correctly :\", probG4*probB6)\n",
    "print(\"probability g will solve 4 questions correctly :\", probG4)\n",
    "print(\"probability g will solve 6 questions correctly :\", probB6)\n",
    "binondistB=binom.rvs(n=8,p=0.75,size=1000)\n",
    "binondistG=binom.rvs(n=12,p=0.45,size=1000)\n",
    "sns.distplot(binondistB,kde=True)\n",
    "sns.distplot(binondistG,kde=True,color='Red')\n"
   ]
  },
  {
   "cell_type": "code",
   "execution_count": 164,
   "metadata": {},
   "outputs": [
    {
     "name": "stdout",
     "output_type": "stream",
     "text": [
      "probability of 5 customers = 0.17474768364388296\n",
      "probability of not less than 3 customers = 0.29422991649656405\n",
      "probability of more than 3 customers = 0.705770083503436\n"
     ]
    },
    {
     "data": {
      "text/plain": [
       "<matplotlib.axes._subplots.AxesSubplot at 0x27b5bf54da0>"
      ]
     },
     "execution_count": 164,
     "metadata": {},
     "output_type": "execute_result"
    },
    {
     "data": {
      "image/png": "[encoded data removed]",
      "text/plain": [
       "<Figure size 432x288 with 1 Axes>"
      ]
     },
     "metadata": {},
     "output_type": "display_data"
    }
   ],
   "source": [
    "from scipy.stats import poisson\n",
    "prob5 =poisson.pmf(k=5,mu=4.8)\n",
    "print(\"probability of 5 customers =\",prob5)\n",
    "probl3 = sum(poisson.pmf(k=[0,1,2,3],mu=4.8))\n",
    "print(\"probability of not less than 3 customers =\",probl3)\n",
    "print(\"probability of more than 3 customers =\",1-probl3)\n",
    "posdist = poisson.rvs(mu=4.8, size=1000)\n",
    "sns.distplot(posdist,hist=True,kde=True)\n"
   ]
  },
  {
   "cell_type": "code",
   "execution_count": 188,
   "metadata": {},
   "outputs": [
    {
     "name": "stdout",
     "output_type": "stream",
     "text": [
      "6\n",
      "probability of 2 error = 0.09669027375144444\n",
      "1.2987012987012987\n",
      "0.3246753246753247\n",
      "probability of 2 error at 1000 words= 0.23012815007300153\n",
      "probability of 2 error at 250 words= 0.038094639617325725\n"
     ]
    },
    {
     "data": {
      "text/plain": [
       "<matplotlib.axes._subplots.AxesSubplot at 0x27b5c81db70>"
      ]
     },
     "execution_count": 188,
     "metadata": {},
     "output_type": "execute_result"
    },
    {
     "data": {
      "image/png": "[encoded data removed]",
      "text/plain": [
       "<Figure size 432x288 with 1 Axes>"
      ]
     },
     "metadata": {},
     "output_type": "display_data"
    }
   ],
   "source": [
    "wordtyped=77*60\n",
    "error=6\n",
    "word=455\n",
    "meanerr=455*(6/wordtyped)\n",
    "print(error)\n",
    "prob5 =poisson.pmf(k=2,mu=meanerr)\n",
    "print(\"probability of 2 error =\",prob5)\n",
    "prvs = poisson.rvs(mu=meanerr,size=100)\n",
    "meanerr1=1000*(error/wordtyped)\n",
    "print(meanerr1)\n",
    "meanerr2=250*(error/wordtyped)\n",
    "print(meanerr2)\n",
    "prob5 =poisson.pmf(k=2,mu=meanerr1)\n",
    "print(\"probability of 2 error at 1000 words=\",prob5)\n",
    "prob5 =poisson.pmf(k=2,mu=meanerr2)\n",
    "print(\"probability of 2 error at 250 words=\",prob5)\n",
    "sns.distplot(prvs)"
   ]
  },
  {
   "cell_type": "code",
   "execution_count": 205,
   "metadata": {},
   "outputs": [
    {
     "data": {
      "text/plain": [
       "'Need the answere'"
      ]
     },
     "execution_count": 205,
     "metadata": {},
     "output_type": "execute_result"
    }
   ],
   "source": [
    "\"Need the answere of question number 9\""
   ]
  },
  {
   "cell_type": "code",
   "execution_count": 218,
   "metadata": {},
   "outputs": [
    {
     "name": "stdout",
     "output_type": "stream",
     "text": [
      "P(Z > 1.26), . P(Z < −0.86), P(Z > −1.37), P(−1.25 < Z < 0.37), . P(Z ≤ −4.6) 0.10382999999999998 0.19765999999999995 0.91466 0.53866 0\n",
      "𝑃(𝑍 > 𝑧) = 0.05:z= 1.64\n",
      "𝑃(−𝑧 < 𝑍 < 𝑧) = 0.99 then z= 2.57\n"
     ]
    }
   ],
   "source": [
    "print(\"P(Z > 1.26), . P(Z < −0.86), P(Z > −1.37), P(−1.25 < Z < 0.37), . P(Z ≤ −4.6)\",(1-0.89617),(1-.80234),.91466,(.64431-.10565),0)\n",
    "print(\"𝑃(𝑍 > 𝑧) = 0.05:z=\",1.64)\n",
    "print(\"𝑃(−𝑧 < 𝑍 < 𝑧) = 0.99 then z=\",2.57)"
   ]
  },
  {
   "cell_type": "code",
   "execution_count": 235,
   "metadata": {},
   "outputs": [
    {
     "name": "stdout",
     "output_type": "stream",
     "text": [
      "current measurement will exceed 13 𝑚𝐴 0.021785217703255054\n"
     ]
    }
   ],
   "source": [
    "#Need answere of problem 11\n",
    "from scipy.stats import norm\n",
    "import numpy as np\n",
    "mean=10\n",
    "loc=2\n",
    "x=np.linspace(13,26,num=1000)\n",
    "prob13= norm.pdf(13,loc=2,scale=10)\n",
    "print(\"current measurement will exceed 13 𝑚𝐴\",prob13)"
   ]
  },
  {
   "cell_type": "code",
   "execution_count": null,
   "metadata": {},
   "outputs": [],
   "source": [
    "#need answere of problem 12"
   ]
  }
 ],
 "metadata": {
  "kernelspec": {
   "display_name": "Python 3",
   "language": "python",
   "name": "python3"
  },
  "language_info": {
   "codemirror_mode": {
    "name": "ipython",
    "version": 3
   },
   "file_extension": ".py",
   "mimetype": "text/x-python",
   "name": "python",
   "nbconvert_exporter": "python",
   "pygments_lexer": "ipython3",
   "version": "3.6.5"
  }
 },
 "nbformat": 4,
 "nbformat_minor": 2
}
